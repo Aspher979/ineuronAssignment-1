{
 "cells": [
  {
   "cell_type": "markdown",
   "id": "b37ee4af",
   "metadata": {},
   "source": [
    "<strong>Q.1. Create two int type variables, apply addition, subtraction, division and multiplications\n",
    "and store the results in variables. Then print the data in the following format by calling the\n",
    "variables:\n",
    "First variable is __ & second variable is __.\n",
    "Addition: __ + __ = __\n",
    "Subtraction: __ - __ = __\n",
    "Multiplication: __ * __ = __\n",
    "Division: __ / __ = __</strong>"
   ]
  },
  {
   "cell_type": "code",
   "execution_count": 1,
   "id": "011bf517",
   "metadata": {},
   "outputs": [
    {
     "name": "stdout",
     "output_type": "stream",
     "text": [
      "15\n",
      "23\n"
     ]
    }
   ],
   "source": [
    "a = int(input())\n",
    "b = int(input())"
   ]
  },
  {
   "cell_type": "code",
   "execution_count": 4,
   "id": "0bc28347",
   "metadata": {},
   "outputs": [
    {
     "name": "stdout",
     "output_type": "stream",
     "text": [
      "15 23\n"
     ]
    }
   ],
   "source": [
    "print(f\"{a} {b}\")"
   ]
  },
  {
   "cell_type": "code",
   "execution_count": 6,
   "id": "8693c01b",
   "metadata": {},
   "outputs": [],
   "source": [
    "add = a + b\n",
    "sub = a - b\n",
    "mul = a*b\n",
    "div = a/b"
   ]
  },
  {
   "cell_type": "code",
   "execution_count": 12,
   "id": "9e08f557",
   "metadata": {},
   "outputs": [
    {
     "name": "stdout",
     "output_type": "stream",
     "text": [
      "First variable is 15 & second variable is 23.\n",
      "Addition: 15 + 23 = 38\n",
      "Subtraction: 15 - 23 = -8\n",
      "Multiplication: 15 * 23 = 345 \n",
      "Division: 15 / 23 = 0.6521739130434783\n"
     ]
    }
   ],
   "source": [
    "print(f\"First variable is {a} & second variable is {b}.\")\n",
    "print(f\"Addition: {a} + {b} = {add}\")\n",
    "print(f\"Subtraction: {a} - {b} = {sub}\")\n",
    "print(f\"Multiplication: {a} * {b} = {mul} \")\n",
    "print(f\"Division: {a} / {b} = {div}\")"
   ]
  },
  {
   "cell_type": "markdown",
   "id": "07b65b5e",
   "metadata": {},
   "source": [
    "<strong>Q.2. What is the difference between the following operators:\n",
    "(i) ‘/’ & ‘//’\n",
    "(ii) ‘**’ & ‘^’</strong>"
   ]
  },
  {
   "cell_type": "markdown",
   "id": "bd2bdeb3",
   "metadata": {},
   "source": [
    "<strong>(i) Difference between '/' and '//':</strong>\n"
   ]
  },
  {
   "cell_type": "markdown",
   "id": "7fec1eaa",
   "metadata": {},
   "source": [
    "<p>1)The '/' operator is used for division in Python and returns the quotient as a floating-point number.\n",
    "\n",
    "2)The '//' operator, also known as floor division or integer division, performs division and returns the quotient as an integer, discarding any decimal places.</p>"
   ]
  },
  {
   "cell_type": "code",
   "execution_count": 13,
   "id": "dc984ae6",
   "metadata": {},
   "outputs": [
    {
     "name": "stdout",
     "output_type": "stream",
     "text": [
      "255\n",
      "56\n"
     ]
    }
   ],
   "source": [
    "a = int(input())\n",
    "b = int(input())"
   ]
  },
  {
   "cell_type": "code",
   "execution_count": 14,
   "id": "81e119aa",
   "metadata": {},
   "outputs": [
    {
     "name": "stdout",
     "output_type": "stream",
     "text": [
      "4.553571428571429\n"
     ]
    }
   ],
   "source": [
    "divison = a/b\n",
    "print(divison)"
   ]
  },
  {
   "cell_type": "code",
   "execution_count": 15,
   "id": "d13add31",
   "metadata": {},
   "outputs": [
    {
     "name": "stdout",
     "output_type": "stream",
     "text": [
      "4\n"
     ]
    }
   ],
   "source": [
    "floor_divison = a//b\n",
    "print(floor_divison)"
   ]
  },
  {
   "cell_type": "markdown",
   "id": "7ebb3522",
   "metadata": {},
   "source": [
    "<strong>(ii) Difference between '**' and '^':</strong>"
   ]
  },
  {
   "cell_type": "markdown",
   "id": "2de467c8",
   "metadata": {},
   "source": [
    "<p>\n",
    "1)The '**' operator is used for exponentiation in Python and calculates the power of a number.\n",
    "\n",
    "2)The '^' operator, on the other hand, is not an exponentiation operator in Python. It is the bitwise XOR operator used for performing bitwise exclusive OR operation between two numbers.</p>"
   ]
  },
  {
   "cell_type": "code",
   "execution_count": 19,
   "id": "f6516d0d",
   "metadata": {},
   "outputs": [
    {
     "name": "stdout",
     "output_type": "stream",
     "text": [
      "2\n",
      "3\n"
     ]
    }
   ],
   "source": [
    "a = int(input())\n",
    "b = int(input())"
   ]
  },
  {
   "cell_type": "code",
   "execution_count": 20,
   "id": "96b3f43d",
   "metadata": {},
   "outputs": [
    {
     "name": "stdout",
     "output_type": "stream",
     "text": [
      "8\n"
     ]
    }
   ],
   "source": [
    "exponent = a**b\n",
    "print(exponent)"
   ]
  },
  {
   "cell_type": "code",
   "execution_count": 21,
   "id": "90b569de",
   "metadata": {},
   "outputs": [
    {
     "name": "stdout",
     "output_type": "stream",
     "text": [
      "1\n"
     ]
    }
   ],
   "source": [
    "XOR = a^b\n",
    "print(XOR)"
   ]
  },
  {
   "cell_type": "markdown",
   "id": "4835a355",
   "metadata": {},
   "source": [
    "<strong>Q.3. List the logical operators.</strong>"
   ]
  },
  {
   "cell_type": "markdown",
   "id": "a3410e61",
   "metadata": {},
   "source": [
    "1)AND OPERATOR"
   ]
  },
  {
   "cell_type": "code",
   "execution_count": 22,
   "id": "537beaca",
   "metadata": {},
   "outputs": [
    {
     "name": "stdout",
     "output_type": "stream",
     "text": [
      "true\n"
     ]
    }
   ],
   "source": [
    "a = 55\n",
    "b = 25\n",
    "c = 30\n",
    "if a > b and a > c:\n",
    "    print(\"true\")"
   ]
  },
  {
   "cell_type": "code",
   "execution_count": 23,
   "id": "2a480caf",
   "metadata": {},
   "outputs": [
    {
     "name": "stdout",
     "output_type": "stream",
     "text": [
      "False\n"
     ]
    }
   ],
   "source": [
    "a = True\n",
    "b = False\n",
    "print(a and b)"
   ]
  },
  {
   "cell_type": "markdown",
   "id": "9914ce53",
   "metadata": {},
   "source": [
    "2)OR OPERATOR"
   ]
  },
  {
   "cell_type": "code",
   "execution_count": 25,
   "id": "9099b4c5",
   "metadata": {},
   "outputs": [
    {
     "name": "stdout",
     "output_type": "stream",
     "text": [
      "true\n"
     ]
    }
   ],
   "source": [
    "a = 55\n",
    "b = 25\n",
    "c = 60\n",
    "if a > b or a > c:\n",
    "    print(\"true\")"
   ]
  },
  {
   "cell_type": "code",
   "execution_count": 27,
   "id": "d6ad30e9",
   "metadata": {},
   "outputs": [
    {
     "name": "stdout",
     "output_type": "stream",
     "text": [
      "True\n"
     ]
    }
   ],
   "source": [
    "a = True\n",
    "b = False\n",
    "print(a or b)"
   ]
  },
  {
   "cell_type": "markdown",
   "id": "5ec93633",
   "metadata": {},
   "source": [
    "3)NOT OPERATOR"
   ]
  },
  {
   "cell_type": "code",
   "execution_count": 28,
   "id": "87b3f26e",
   "metadata": {},
   "outputs": [
    {
     "name": "stdout",
     "output_type": "stream",
     "text": [
      "False\n"
     ]
    }
   ],
   "source": [
    "a = True\n",
    "print(not a)"
   ]
  },
  {
   "cell_type": "markdown",
   "id": "bb6827f8",
   "metadata": {},
   "source": [
    "<strong>Q.4. Explain right shift operator and left shift operator with examples.</strong>"
   ]
  },
  {
   "cell_type": "markdown",
   "id": "437f1853",
   "metadata": {},
   "source": [
    "<strong>The right shift (>>) and left shift (<<) operators are bitwise shift operators in Python.</strong>"
   ]
  },
  {
   "cell_type": "markdown",
   "id": "56418e5d",
   "metadata": {},
   "source": [
    "1)Right Shift Operator (>>):"
   ]
  },
  {
   "cell_type": "markdown",
   "id": "1f977326",
   "metadata": {},
   "source": [
    "The right shift operator (>>) shifts the bits of a number to the right by a specified number of position"
   ]
  },
  {
   "cell_type": "code",
   "execution_count": 33,
   "id": "8f2e5082",
   "metadata": {},
   "outputs": [
    {
     "name": "stdout",
     "output_type": "stream",
     "text": [
      "0\n"
     ]
    }
   ],
   "source": [
    "a = 5\n",
    "shifts = 3\n",
    "result = a >> shifts\n",
    "print(result)"
   ]
  },
  {
   "cell_type": "markdown",
   "id": "ad84b6d8",
   "metadata": {},
   "source": [
    "2)Left Shift Operator (<<):\n",
    "\n"
   ]
  },
  {
   "cell_type": "markdown",
   "id": "d80a56ec",
   "metadata": {},
   "source": [
    "The left shift operator (<<) shifts the bits of a number to the left by a specified number of positions."
   ]
  },
  {
   "cell_type": "code",
   "execution_count": 34,
   "id": "e7670e44",
   "metadata": {},
   "outputs": [
    {
     "name": "stdout",
     "output_type": "stream",
     "text": [
      "40\n"
     ]
    }
   ],
   "source": [
    "a = 5\n",
    "shifts = 3\n",
    "result = a << shifts\n",
    "print(result)"
   ]
  },
  {
   "cell_type": "markdown",
   "id": "a0c72e88",
   "metadata": {},
   "source": [
    "<strong>Q.5. Create a list containing int type data of length 15. Then write a code to check if 10 is\n",
    "present in the list or not</strong>"
   ]
  },
  {
   "cell_type": "code",
   "execution_count": 39,
   "id": "841fd2a1",
   "metadata": {},
   "outputs": [
    {
     "name": "stdout",
     "output_type": "stream",
     "text": [
      "1 2 3 4 5 6 7 8 9 10 11 12 13 14 15\n"
     ]
    }
   ],
   "source": [
    "l = list(map(int,input().strip().split()))"
   ]
  },
  {
   "cell_type": "code",
   "execution_count": 40,
   "id": "7f1fbe7a",
   "metadata": {},
   "outputs": [
    {
     "name": "stdout",
     "output_type": "stream",
     "text": [
      "[1, 2, 3, 4, 5, 6, 7, 8, 9, 10, 11, 12, 13, 14, 15]\n"
     ]
    }
   ],
   "source": [
    "print(l)"
   ]
  },
  {
   "cell_type": "code",
   "execution_count": 41,
   "id": "e0877d01",
   "metadata": {},
   "outputs": [
    {
     "data": {
      "text/plain": [
       "15"
      ]
     },
     "execution_count": 41,
     "metadata": {},
     "output_type": "execute_result"
    }
   ],
   "source": [
    "len(l)"
   ]
  },
  {
   "cell_type": "code",
   "execution_count": 42,
   "id": "12277001",
   "metadata": {},
   "outputs": [
    {
     "name": "stdout",
     "output_type": "stream",
     "text": [
      "YES\n"
     ]
    }
   ],
   "source": [
    "if len(l) == 15:\n",
    "    if 10 in l:\n",
    "        print(\"YES\")\n",
    "    else:\n",
    "        print(\"NO\")\n",
    "else:\n",
    "    print(\"ERROR>>length of the list is not equal to 15\")"
   ]
  },
  {
   "cell_type": "code",
   "execution_count": null,
   "id": "889aadce",
   "metadata": {},
   "outputs": [],
   "source": []
  }
 ],
 "metadata": {
  "kernelspec": {
   "display_name": "Python 3 (ipykernel)",
   "language": "python",
   "name": "python3"
  },
  "language_info": {
   "codemirror_mode": {
    "name": "ipython",
    "version": 3
   },
   "file_extension": ".py",
   "mimetype": "text/x-python",
   "name": "python",
   "nbconvert_exporter": "python",
   "pygments_lexer": "ipython3",
   "version": "3.9.12"
  }
 },
 "nbformat": 4,
 "nbformat_minor": 5
}
