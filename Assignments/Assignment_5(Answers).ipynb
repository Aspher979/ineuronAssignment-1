{
  "nbformat": 4,
  "nbformat_minor": 0,
  "metadata": {
    "colab": {
      "provenance": []
    },
    "kernelspec": {
      "name": "python3",
      "display_name": "Python 3"
    },
    "language_info": {
      "name": "python"
    }
  },
  "cells": [
    {
      "cell_type": "markdown",
      "source": [
        "**1. What does an empty dictionary's code look like?**"
      ],
      "metadata": {
        "id": "E7PM3P61lUog"
      }
    },
    {
      "cell_type": "markdown",
      "source": [
        "***Ans.***"
      ],
      "metadata": {
        "id": "EcHIZbdnpNbM"
      }
    },
    {
      "cell_type": "code",
      "execution_count": 1,
      "metadata": {
        "id": "cEA3SZMilPgo"
      },
      "outputs": [],
      "source": [
        "#An empty dictionary in Python is represented by a pair of curly braces {}\n",
        "my_dict = {}"
      ]
    },
    {
      "cell_type": "markdown",
      "source": [
        "**2. What is the value of a dictionary value with the key 'foo' and the value 42?**"
      ],
      "metadata": {
        "id": "PKnYaPfclu_k"
      }
    },
    {
      "cell_type": "markdown",
      "source": [
        "***Ans.***"
      ],
      "metadata": {
        "id": "vi2XWHoHpMvE"
      }
    },
    {
      "cell_type": "code",
      "source": [
        "#The value of a dictionary with the key 'foo' and the value 42 would be 42.\n",
        "my_dict = {'foo': 42}\n",
        "my_dict['foo']"
      ],
      "metadata": {
        "colab": {
          "base_uri": "https://localhost:8080/"
        },
        "id": "PwR1hxFplt1f",
        "outputId": "60124723-db98-4115-af26-a443b28ab1f4"
      },
      "execution_count": 3,
      "outputs": [
        {
          "output_type": "execute_result",
          "data": {
            "text/plain": [
              "42"
            ]
          },
          "metadata": {},
          "execution_count": 3
        }
      ]
    },
    {
      "cell_type": "markdown",
      "source": [
        "**3. What is the most significant distinction between a dictionary and a list?**\n"
      ],
      "metadata": {
        "id": "bNEdrXmXmp_X"
      }
    },
    {
      "cell_type": "markdown",
      "source": [
        "***Ans.***"
      ],
      "metadata": {
        "id": "845ojDc0pJsk"
      }
    },
    {
      "cell_type": "markdown",
      "source": [
        "***List:*** \n",
        "A list is an ordered collection of items where each \n",
        "item is assigned an index starting from 0. The items in a list are stored in a sequential manner.\n",
        "\n",
        "\n",
        "\n",
        "\n",
        "***Dictionary:*** A dictionary is an unordered collection of key-value pairs. Each key-value pair is separated by a colon (:) and enclosed in curly braces {}. The keys in a dictionary are unique, and each key is associated with a corresponding value."
      ],
      "metadata": {
        "id": "_rqIeVoqmHm6"
      }
    },
    {
      "cell_type": "code",
      "source": [
        "list_example = [1,2,3,4,5]\n",
        "dict_example = {\"Name\":\"Saket\", \"Age\":20}"
      ],
      "metadata": {
        "id": "S3G7fzDxmF7j"
      },
      "execution_count": 4,
      "outputs": []
    },
    {
      "cell_type": "code",
      "source": [
        "print(list_example[1:4])"
      ],
      "metadata": {
        "colab": {
          "base_uri": "https://localhost:8080/"
        },
        "id": "cOGWZWRJm8rS",
        "outputId": "d0d50306-411d-4bb0-f836-fa5e0aea9317"
      },
      "execution_count": 5,
      "outputs": [
        {
          "output_type": "stream",
          "name": "stdout",
          "text": [
            "[2, 3, 4]\n"
          ]
        }
      ]
    },
    {
      "cell_type": "code",
      "source": [
        "dict_example[\"Name\"]"
      ],
      "metadata": {
        "colab": {
          "base_uri": "https://localhost:8080/",
          "height": 35
        },
        "id": "E0fzuxVdnA-j",
        "outputId": "ae912f23-1ba9-4a0d-e457-dd219571afc5"
      },
      "execution_count": 7,
      "outputs": [
        {
          "output_type": "execute_result",
          "data": {
            "text/plain": [
              "'Saket'"
            ],
            "application/vnd.google.colaboratory.intrinsic+json": {
              "type": "string"
            }
          },
          "metadata": {},
          "execution_count": 7
        }
      ]
    },
    {
      "cell_type": "markdown",
      "source": [
        "**4. What happens if you try to access spam['foo'] if spam is {'bar': 100}?**"
      ],
      "metadata": {
        "id": "KjTMvoHVnMMh"
      }
    },
    {
      "cell_type": "markdown",
      "source": [
        "***Ans.***"
      ],
      "metadata": {
        "id": "s-XbmM_NpGas"
      }
    },
    {
      "cell_type": "code",
      "source": [
        "spam = {\"bar\":100}"
      ],
      "metadata": {
        "id": "wJZvcJxZnE27"
      },
      "execution_count": 8,
      "outputs": []
    },
    {
      "cell_type": "code",
      "source": [
        "spam[\"foo\"]"
      ],
      "metadata": {
        "colab": {
          "base_uri": "https://localhost:8080/",
          "height": 166
        },
        "id": "9UfsTtxlnR27",
        "outputId": "9a3d621d-99c6-4cb1-80e9-5e605b3ebaf7"
      },
      "execution_count": 9,
      "outputs": [
        {
          "output_type": "error",
          "ename": "KeyError",
          "evalue": "ignored",
          "traceback": [
            "\u001b[0;31m---------------------------------------------------------------------------\u001b[0m",
            "\u001b[0;31mKeyError\u001b[0m                                  Traceback (most recent call last)",
            "\u001b[0;32m<ipython-input-9-eb1d0efbede1>\u001b[0m in \u001b[0;36m<cell line: 1>\u001b[0;34m()\u001b[0m\n\u001b[0;32m----> 1\u001b[0;31m \u001b[0mspam\u001b[0m\u001b[0;34m[\u001b[0m\u001b[0;34m\"foo\"\u001b[0m\u001b[0;34m]\u001b[0m\u001b[0;34m\u001b[0m\u001b[0;34m\u001b[0m\u001b[0m\n\u001b[0m",
            "\u001b[0;31mKeyError\u001b[0m: 'foo'"
          ]
        }
      ]
    },
    {
      "cell_type": "markdown",
      "source": [
        " As you can see there exists no key named \"foo\" in our dictionary **spam** so it is giving us **keyError**"
      ],
      "metadata": {
        "id": "KXTFMOe0nVk4"
      }
    },
    {
      "cell_type": "markdown",
      "source": [
        "**5. If a dictionary is stored in spam, what is the difference between the expressions 'cat' in spam and 'cat' in spam.keys()?**"
      ],
      "metadata": {
        "id": "syApdQjeoCko"
      }
    },
    {
      "cell_type": "markdown",
      "source": [
        "***Ans.***"
      ],
      "metadata": {
        "id": "L6i9n2ZRpDkR"
      }
    },
    {
      "cell_type": "markdown",
      "source": [
        "***'cat' in spam:*** This expression checks if the key 'cat' exists in the dictionary spam. It returns a Boolean value (True or False) indicating whether the key is present or not. It searches for the key directly in the dictionary's keys.\n",
        "\n",
        "***'cat' in spam.keys():*** This expression also checks if the key 'cat' exists in the dictionary spam, but it explicitly calls the keys() method on the dictionary to obtain a list of its keys. It then checks if 'cat' is present in that list. The result is also a Boolean value (True or False)."
      ],
      "metadata": {
        "id": "lAJsP3w9n9uO"
      }
    },
    {
      "cell_type": "code",
      "source": [
        "spam = {\"cat\":\"animal\", \"tiger\":\"animal\", \"saket\":\"human\"}\n",
        "print('cat' in spam.keys())"
      ],
      "metadata": {
        "colab": {
          "base_uri": "https://localhost:8080/"
        },
        "id": "IEj1FPZ-nT5S",
        "outputId": "61689695-6646-4010-9885-8c4c0f246833"
      },
      "execution_count": 10,
      "outputs": [
        {
          "output_type": "stream",
          "name": "stdout",
          "text": [
            "True\n"
          ]
        }
      ]
    },
    {
      "cell_type": "markdown",
      "source": [
        "**6. If a dictionary is stored in spam, what is the difference between the expressions 'cat' in spam and 'cat' in spam.values()?**"
      ],
      "metadata": {
        "id": "r--Vh7Cuov6v"
      }
    },
    {
      "cell_type": "markdown",
      "source": [
        "***Ans.***"
      ],
      "metadata": {
        "id": "NExNsvnSpAaA"
      }
    },
    {
      "cell_type": "markdown",
      "source": [
        "***'cat' in spam:*** This expression checks if the string 'cat' exists as a key in the dictionary spam. It returns a Boolean value (True or False) indicating whether the key is present in the dictionary or not. It searches for the key directly in the dictionary's keys.\n",
        "\n",
        "***'cat' in spam.values():*** This expression checks if the string 'cat' exists as a value in the dictionary spam. It returns a Boolean value (True or False) indicating whether the value is present in the dictionary or not. It searches for the value in the dictionary's values."
      ],
      "metadata": {
        "id": "GCBBjUzAo3rd"
      }
    },
    {
      "cell_type": "code",
      "source": [
        "spam = {\"cat\":\"animal\", \"tiger\":\"animal\", \"saket\":\"human\"}\n",
        "print('cat' in spam.values())"
      ],
      "metadata": {
        "colab": {
          "base_uri": "https://localhost:8080/"
        },
        "id": "UY2piDxDosg5",
        "outputId": "df624709-a012-48d7-e6ec-d5d0615c93a0"
      },
      "execution_count": 11,
      "outputs": [
        {
          "output_type": "stream",
          "name": "stdout",
          "text": [
            "False\n"
          ]
        }
      ]
    },
    {
      "cell_type": "markdown",
      "source": [
        "**7. What is a shortcut for the following code?\n",
        "if 'color' not in spam:\n",
        "spam['color'] = 'black'** "
      ],
      "metadata": {
        "id": "UETDIbAApXDd"
      }
    },
    {
      "cell_type": "markdown",
      "source": [
        "***Ans.***"
      ],
      "metadata": {
        "id": "slOHBYIWpzPr"
      }
    },
    {
      "cell_type": "markdown",
      "source": [
        "A shortcut for the given code is to use the setdefault() method of dictionaries. The setdefault() method allows you to set a default value for a key if it doesn't already exist in the dictionary."
      ],
      "metadata": {
        "id": "9AjWRtTzpyGB"
      }
    },
    {
      "cell_type": "code",
      "source": [
        "#Shortcut\n",
        "spam.setdefault('color', 'black')"
      ],
      "metadata": {
        "colab": {
          "base_uri": "https://localhost:8080/",
          "height": 35
        },
        "id": "Fju9Rrwlo2vA",
        "outputId": "3bb2db69-1a0c-4d7a-8e0e-fe18e2ce9ca8"
      },
      "execution_count": 12,
      "outputs": [
        {
          "output_type": "execute_result",
          "data": {
            "text/plain": [
              "'black'"
            ],
            "application/vnd.google.colaboratory.intrinsic+json": {
              "type": "string"
            }
          },
          "metadata": {},
          "execution_count": 12
        }
      ]
    },
    {
      "cell_type": "code",
      "source": [
        "spam"
      ],
      "metadata": {
        "colab": {
          "base_uri": "https://localhost:8080/"
        },
        "id": "dmxcm5unp5nr",
        "outputId": "f6b4d3a0-e55f-4b94-a587-6136728889f0"
      },
      "execution_count": 13,
      "outputs": [
        {
          "output_type": "execute_result",
          "data": {
            "text/plain": [
              "{'cat': 'animal', 'tiger': 'animal', 'saket': 'human', 'color': 'black'}"
            ]
          },
          "metadata": {},
          "execution_count": 13
        }
      ]
    },
    {
      "cell_type": "code",
      "source": [
        "spam['color']"
      ],
      "metadata": {
        "colab": {
          "base_uri": "https://localhost:8080/",
          "height": 35
        },
        "id": "MbGc_bB9p7tX",
        "outputId": "baf34181-692a-4d68-f5c0-450216cbb2a7"
      },
      "execution_count": 14,
      "outputs": [
        {
          "output_type": "execute_result",
          "data": {
            "text/plain": [
              "'black'"
            ],
            "application/vnd.google.colaboratory.intrinsic+json": {
              "type": "string"
            }
          },
          "metadata": {},
          "execution_count": 14
        }
      ]
    },
    {
      "cell_type": "markdown",
      "source": [
        "**8. How do you \"pretty print\" dictionary values using which module and function?**\n"
      ],
      "metadata": {
        "id": "i8OVT66aqDpV"
      }
    },
    {
      "cell_type": "markdown",
      "source": [
        "***Ans.***"
      ],
      "metadata": {
        "id": "9LE-NKFnqGBU"
      }
    },
    {
      "cell_type": "markdown",
      "source": [
        "To \"pretty print\" dictionary values in Python, you can use the pprint module and its pprint() function. "
      ],
      "metadata": {
        "id": "7qYKZp4cqfME"
      }
    },
    {
      "cell_type": "code",
      "source": [
        "import pprint\n",
        "pprint.pprint(spam)"
      ],
      "metadata": {
        "colab": {
          "base_uri": "https://localhost:8080/"
        },
        "id": "wZ4PBDKlp-sZ",
        "outputId": "076aece4-6b86-4ae0-ec78-6cc8c9df65e4"
      },
      "execution_count": 15,
      "outputs": [
        {
          "output_type": "stream",
          "name": "stdout",
          "text": [
            "{'cat': 'animal', 'color': 'black', 'saket': 'human', 'tiger': 'animal'}\n"
          ]
        }
      ]
    },
    {
      "cell_type": "code",
      "source": [],
      "metadata": {
        "id": "1BbjdHTMqaL2"
      },
      "execution_count": null,
      "outputs": []
    }
  ]
}