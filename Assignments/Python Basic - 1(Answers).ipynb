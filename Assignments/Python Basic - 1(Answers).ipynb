{
 "cells": [
  {
   "cell_type": "markdown",
   "id": "41e206c1",
   "metadata": {},
   "source": [
    "<strong>Q.1. What are keywords in python? Using the keyword library, print all the python keywords.</strong>"
   ]
  },
  {
   "cell_type": "markdown",
   "id": "8a472829",
   "metadata": {},
   "source": [
    "<strong>Ans.</strong>\n",
    "<p><strong>Definition: </strong>Keywords in Python are reserved words that cannot be used as ordinary identifiers. They are used to define the syntax and structure of the Python language.</p>"
   ]
  },
  {
   "cell_type": "code",
   "execution_count": 9,
   "id": "23866c47",
   "metadata": {},
   "outputs": [
    {
     "name": "stdout",
     "output_type": "stream",
     "text": [
      "['False', 'None', 'True', '__peg_parser__', 'and', 'as', 'assert', 'async', 'await', 'break', 'class', 'continue', 'def', 'del', 'elif', 'else', 'except', 'finally', 'for', 'from', 'global', 'if', 'import', 'in', 'is', 'lambda', 'nonlocal', 'not', 'or', 'pass', 'raise', 'return', 'try', 'while', 'with', 'yield']\n"
     ]
    }
   ],
   "source": [
    "# instal package \"keyword\" to check how many keywords are there\n",
    "# pip install keyword\n",
    "\n",
    "# load package\n",
    "import keyword\n",
    "\n",
    "# display all keywords\n",
    "print(keyword.kwlist)"
   ]
  },
  {
   "cell_type": "markdown",
   "id": "1ad04a86",
   "metadata": {},
   "source": [
    "<strong> Q.2. What are the rules to create variables in python?</strong>"
   ]
  },
  {
   "cell_type": "markdown",
   "id": "dac8fdf8",
   "metadata": {},
   "source": [
    "<p>Here are the rules for Python variables:</p>\n",
    "<ol>\n",
    "    <li>\n",
    "        <p><strong>A variable name must start with a letter or the underscore character</strong></p>\n",
    "    </li>\n",
    "    <li>\n",
    "        <p><strong>A variable name cannot start with a number</strong></p>\n",
    "    </li>\n",
    "    <li>\n",
    "        <p><strong>A variable name can only contain alpha-numeric characters and underscores (A-z, 0-9, and _)</strong></p>\n",
    "    </li>\n",
    "    <li>\n",
    "        <p><strong>Variable names are case-sensitive</strong> (e.g., age, Age, and AGE are three different variables)</p>\n",
    "    </li>\n",
    "</ol>"
   ]
  },
  {
   "cell_type": "markdown",
   "id": "c0d85cf1",
   "metadata": {},
   "source": [
    "<strong>Q.3. What are the standards and conventions followed for the nomenclature of variables in\n",
    "python to improve code readability and maintainability?</strong>"
   ]
  },
  {
   "cell_type": "markdown",
   "id": "26baeb9a",
   "metadata": {},
   "source": [
    "<p><strong>Here are the key points related to using keywords as variable names in Python:</strong></p>\n",
    "<ol>\n",
    "    <li>\n",
    "        <p><strong>Use descriptive names</strong>: Choose meaningful and descriptive names for your variables that reflect their purpose or the data they hold. This makes it easier for others (including yourself) to understand the code.</p>\n",
    "    </li>\n",
    "    <li>\n",
    "        <p><strong>Use lowercase letters</strong>: Variable names should be in lowercase letters. This convention helps to differentiate variables from class names (which are typically written in CamelCase) and makes the code more readable.</p>\n",
    "    </li>\n",
    "    <li>\n",
    "        <p><strong>Separate words with underscores</strong>: If a variable name consists of multiple words, it's common to separate them using underscores (_). For example, student_name or total_count.</p>\n",
    "    </li>\n",
    "    <li>\n",
    "        <p><strong>Avoid using reserved keywords</strong>: Python has reserved keywords (e.g., if, for, while) that have special meanings in the language. Avoid using these reserved keywords as variable names to prevent conflicts and confusion.</p>\n",
    "    </li>\n",
    "    <li>\n",
    "        <p><strong>Follow the PEP 8 style guide</strong>: PEP 8 is the official style guide for Python code. It provides recommendations for various aspects of coding style, including variable naming. Following PEP 8 can enhance code consistency and readability.</p>\n",
    "    </li>\n",
    "    <li>\n",
    "        <p><strong>Use meaningful abbreviations</strong>: While descriptive names are preferred, if a variable has a long name, you can use meaningful abbreviations to keep it concise. However, be cautious not to make the abbreviation overly cryptic, as it may reduce readability.</p>\n",
    "    </li>\n",
    "</ol>"
   ]
  },
  {
   "cell_type": "markdown",
   "id": "dbfbbe8f",
   "metadata": {},
   "source": [
    "<strong>Q.4. What will happen if a keyword is used as a variable name?</strong>"
   ]
  },
  {
   "cell_type": "code",
   "execution_count": 15,
   "id": "6eb79232",
   "metadata": {},
   "outputs": [
    {
     "ename": "SyntaxError",
     "evalue": "invalid syntax (138942673.py, line 3)",
     "output_type": "error",
     "traceback": [
      "\u001b[1;36m  Input \u001b[1;32mIn [15]\u001b[1;36m\u001b[0m\n\u001b[1;33m    class = 10     # 'class' is a reserved keyword\u001b[0m\n\u001b[1;37m          ^\u001b[0m\n\u001b[1;31mSyntaxError\u001b[0m\u001b[1;31m:\u001b[0m invalid syntax\n"
     ]
    }
   ],
   "source": [
    "# Incorrect use of keywords as variable names\n",
    "\n",
    "class = 10     # 'class' is a reserved keyword\n",
    "return = 5     # 'return' is a reserved keyword\n",
    "if = \"hello\"   # 'if' is a reserved keyword\n",
    "else = 3.14    # 'else' is a reserved keyword\n",
    "\n",
    "print(class, return, if, else)"
   ]
  },
  {
   "cell_type": "markdown",
   "id": "5239c312",
   "metadata": {},
   "source": [
    "<strong>Ans.</strong>\n",
    "<p>As you can see when we use reserved keywords as variables and try to assign values it will result in a syntax error.\n",
    "     Keywords are reserved words in the Python language that have predefined meanings and cannot be used as identifiers (such as      variable names, function names, or class names).</p>"
   ]
  },
  {
   "cell_type": "markdown",
   "id": "1db58eac",
   "metadata": {},
   "source": [
    "<strong>Q.5. For what purpose def keyword is used?</strong>"
   ]
  },
  {
   "cell_type": "markdown",
   "id": "a55eadb8",
   "metadata": {},
   "source": [
    "<p><strong>Ans. </strong>\n",
    "The def keyword in Python is used to define a function. \n",
    "Functions are blocks of reusable code that perform specific tasks. The def keyword, followed by a function name and parentheses, is used to declare the beginning of a function definition.</p>"
   ]
  },
  {
   "cell_type": "code",
   "execution_count": 17,
   "id": "7ef8da2d",
   "metadata": {},
   "outputs": [],
   "source": [
    "def function_name(parameters):\n",
    "    # Function body\n",
    "    # Code to be executed when the function is called\n",
    "    # ...\n",
    "    # ...\n",
    "    return value\n"
   ]
  },
  {
   "cell_type": "markdown",
   "id": "a818fb47",
   "metadata": {},
   "source": [
    "<strong>Q.6. What is the operation of this special character ‘\\’?</strong>"
   ]
  },
  {
   "cell_type": "markdown",
   "id": "562219eb",
   "metadata": {},
   "source": [
    "<p>Multi-Line Statements: In Python, end of a statement is marked by a newline character. But we can make a statement extend over multiple lines with the line continuation character (\\), or within parentheses (), brackets [], braces {}, or strings. You can also write multiple statements on a single line using semicolons (;)</p>"
   ]
  },
  {
   "cell_type": "code",
   "execution_count": 19,
   "id": "765edcc6",
   "metadata": {},
   "outputs": [
    {
     "name": "stdout",
     "output_type": "stream",
     "text": [
      "15\n"
     ]
    }
   ],
   "source": [
    "# Multi-Line Statements\n",
    "# Using line continuation character\n",
    "s = 1 + 2 + 3 + \\\n",
    "    4 + 5\n",
    "\n",
    "# Using parentheses\n",
    "s = (1 + 2 + 3 +\n",
    "     4 + 5)\n",
    "\n",
    "# Multiple Statements on a Single Line\n",
    "x = 5; y = 10; print(x + y)"
   ]
  },
  {
   "cell_type": "markdown",
   "id": "75c92c10",
   "metadata": {},
   "source": [
    "<strong>Q.7. Give an example of the following conditions:\n",
    "(i) Homogeneous list\n",
    "(ii) Heterogeneous set\n",
    "(iii) Homogeneous tuple\n",
    "</strong>"
   ]
  },
  {
   "cell_type": "markdown",
   "id": "a0a90a0a",
   "metadata": {},
   "source": [
    "(i) Homogeneous list: A homogeneous list in Python is a list where all the elements have the same data type. Here's an example of a homogeneous list of integers:"
   ]
  },
  {
   "cell_type": "code",
   "execution_count": 21,
   "id": "a06ab8ae",
   "metadata": {},
   "outputs": [
    {
     "name": "stdout",
     "output_type": "stream",
     "text": [
      "1\n",
      "2\n",
      "3\n",
      "4\n",
      "5\n"
     ]
    }
   ],
   "source": [
    "numbers = [1, 2, 3, 4, 5]\n",
    "for i in numbers:\n",
    "    print(i)"
   ]
  },
  {
   "cell_type": "markdown",
   "id": "fa13b7d6",
   "metadata": {},
   "source": [
    "(ii) Heterogeneous set: A heterogeneous set in Python is a set where the elements can have different data types. Here's an example of a heterogeneous set:"
   ]
  },
  {
   "cell_type": "code",
   "execution_count": 22,
   "id": "43129a3c",
   "metadata": {},
   "outputs": [
    {
     "name": "stdout",
     "output_type": "stream",
     "text": [
      "1\n",
      "3.14\n",
      "hello\n"
     ]
    }
   ],
   "source": [
    "my_set = {1, 'hello', 3.14, True}\n",
    "for i in my_set:\n",
    "    print(i)"
   ]
  },
  {
   "cell_type": "markdown",
   "id": "34ed3ad2",
   "metadata": {},
   "source": [
    "(iii) Homogeneous tuple: A homogeneous tuple in Python is a tuple where all the elements have the same data type. Here's an example of a homogeneous tuple of strings:"
   ]
  },
  {
   "cell_type": "code",
   "execution_count": 23,
   "id": "9e586c4a",
   "metadata": {},
   "outputs": [
    {
     "name": "stdout",
     "output_type": "stream",
     "text": [
      "apple\n",
      "banana\n",
      "orange\n"
     ]
    }
   ],
   "source": [
    "fruits = ('apple', 'banana', 'orange')\n",
    "for i in fruits:\n",
    "    print(i)"
   ]
  },
  {
   "cell_type": "markdown",
   "id": "96296bf6",
   "metadata": {},
   "source": [
    "<strong>Q.8. Explain the mutable and immutable data types with proper explanation & examples.</strong>"
   ]
  },
  {
   "cell_type": "markdown",
   "id": "ccf9fb8f",
   "metadata": {},
   "source": [
    "<p>In Python, data types can be classified as either mutable or immutable based on whether their values can be changed after they are created. Here's an explanation of mutable and immutable data types along with examples:</p>\n",
    "<p>\n",
    "<strong>Mutable Data Types:</strong>\n",
    "Mutable data types are those whose values can be modified after they are created.\n",
    "This means that you can change individual elements, add new elements, or remove existing elements without creating a new object.\n",
    "Examples of mutable data types in Python include lists, dictionaries, and sets.</p>"
   ]
  },
  {
   "cell_type": "code",
   "execution_count": 24,
   "id": "d7ff59d8",
   "metadata": {},
   "outputs": [],
   "source": [
    "list1 = [1,2,3,4]\n",
    "list1.append(5)"
   ]
  },
  {
   "cell_type": "code",
   "execution_count": 25,
   "id": "7e593083",
   "metadata": {},
   "outputs": [
    {
     "name": "stdout",
     "output_type": "stream",
     "text": [
      "[1, 2, 3, 4, 5]\n"
     ]
    }
   ],
   "source": [
    "print(list1)"
   ]
  },
  {
   "cell_type": "code",
   "execution_count": 26,
   "id": "7aa0c94f",
   "metadata": {},
   "outputs": [],
   "source": [
    "list1[-2] = 'saket'"
   ]
  },
  {
   "cell_type": "code",
   "execution_count": 27,
   "id": "464cb07c",
   "metadata": {},
   "outputs": [
    {
     "name": "stdout",
     "output_type": "stream",
     "text": [
      "[1, 2, 3, 'saket', 5]\n"
     ]
    }
   ],
   "source": [
    "print(list1)"
   ]
  },
  {
   "cell_type": "code",
   "execution_count": 28,
   "id": "5ee72c76",
   "metadata": {},
   "outputs": [],
   "source": [
    "list2 = [1,4,7,8]\n",
    "list1 = list2"
   ]
  },
  {
   "cell_type": "code",
   "execution_count": 30,
   "id": "176fc110",
   "metadata": {},
   "outputs": [
    {
     "name": "stdout",
     "output_type": "stream",
     "text": [
      "[1, 4, 7, 8]\n",
      "[1, 4, 7, 8]\n"
     ]
    }
   ],
   "source": [
    "print(list1)\n",
    "print(list2)"
   ]
  },
  {
   "cell_type": "markdown",
   "id": "f10cc781",
   "metadata": {},
   "source": [
    "<p>\n",
    "<strong>Immutable Data Types:</strong>\n",
    "Immutable data types are those whose values cannot be changed after they are created.Once an object of an immutable data type is created, it cannot be modified. Instead, any operation that appears to modify the value creates a new object.\n",
    "Examples of immutable data types in Python include integers, floats, strings, and tuples.</p>"
   ]
  },
  {
   "cell_type": "code",
   "execution_count": 31,
   "id": "e7671e1a",
   "metadata": {},
   "outputs": [
    {
     "name": "stdout",
     "output_type": "stream",
     "text": [
      "Hello World\n"
     ]
    }
   ],
   "source": [
    "my_string = 'Hello'\n",
    "my_string = my_string + ' World'\n",
    "print(my_string)"
   ]
  },
  {
   "cell_type": "markdown",
   "id": "1a108f93",
   "metadata": {},
   "source": [
    "<strong>Q.9. Write a code to create the given structure using only for loop.</strong>\n",
    "\n",
    "*\n",
    "***\n",
    "*****\n",
    "*******\n",
    "*********"
   ]
  },
  {
   "cell_type": "code",
   "execution_count": 1,
   "id": "dc15512d",
   "metadata": {},
   "outputs": [
    {
     "name": "stdout",
     "output_type": "stream",
     "text": [
      "    *    \n",
      "   ***   \n",
      "  *****  \n",
      " ******* \n",
      "*********\n"
     ]
    }
   ],
   "source": [
    "def pattern7(N):\n",
    "    for i in range(N):\n",
    "        for j in range(N - i - 1):\n",
    "            print(\" \", end=\"\")\n",
    "       \n",
    "        for j in range(2 * i + 1):\n",
    "            print(\"*\", end=\"\")\n",
    "        \n",
    "        for j in range(N - i - 1):\n",
    "            print(\" \", end=\"\")\n",
    "        print()\n",
    "\n",
    "if __name__ == \"__main__\":\n",
    "    N = 5\n",
    "    pattern7(N)"
   ]
  },
  {
   "cell_type": "markdown",
   "id": "2cb7a9fb",
   "metadata": {},
   "source": [
    "<strong>Q.10. Write a code to create the given structure using while loop.</strong>\n",
    "\n",
    "\n",
    "|||||||||\n",
    " |||||||\n",
    "  |||||\n",
    "   |||\n",
    "    |"
   ]
  },
  {
   "cell_type": "code",
   "execution_count": 3,
   "id": "af0eee4a",
   "metadata": {},
   "outputs": [
    {
     "name": "stdout",
     "output_type": "stream",
     "text": [
      "|||||||||\n",
      " ||||||| \n",
      "  |||||  \n",
      "   |||   \n",
      "    |    \n"
     ]
    }
   ],
   "source": [
    "def pattern8(N):\n",
    "    for i in range(N):\n",
    "        for j in range(i):\n",
    "            print(\" \", end=\"\")\n",
    "       \n",
    "        for j in range(2 * N - (2 * i + 1)):\n",
    "            print(\"|\", end=\"\")\n",
    "        \n",
    "        for j in range(i):\n",
    "            print(\" \", end=\"\")\n",
    "        print()\n",
    "        \n",
    "if __name__ == \"__main__\":\n",
    "    N = 5\n",
    "    pattern8(N)"
   ]
  },
  {
   "cell_type": "code",
   "execution_count": null,
   "id": "929d9c6d",
   "metadata": {},
   "outputs": [],
   "source": []
  }
 ],
 "metadata": {
  "kernelspec": {
   "display_name": "Python 3 (ipykernel)",
   "language": "python",
   "name": "python3"
  },
  "language_info": {
   "codemirror_mode": {
    "name": "ipython",
    "version": 3
   },
   "file_extension": ".py",
   "mimetype": "text/x-python",
   "name": "python",
   "nbconvert_exporter": "python",
   "pygments_lexer": "ipython3",
   "version": "3.9.12"
  }
 },
 "nbformat": 4,
 "nbformat_minor": 5
}
