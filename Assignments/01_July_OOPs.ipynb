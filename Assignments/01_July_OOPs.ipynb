{
 "cells": [
  {
   "cell_type": "markdown",
   "id": "ede725c1",
   "metadata": {},
   "source": [
    "**1. What is the primary goal of Object-Oriented Programming (OOP)?**"
   ]
  },
  {
   "cell_type": "markdown",
   "id": "98fba6fe",
   "metadata": {},
   "source": [
    "***Ans.***"
   ]
  },
  {
   "cell_type": "markdown",
   "id": "e26b7ab1",
   "metadata": {},
   "source": [
    "<p>The primary goal of Object-Oriented Programming (OOP) is to model real-world entities and their interactions in a software application.Create organized and reusable code\n",
    "</p>"
   ]
  },
  {
   "cell_type": "markdown",
   "id": "7389a683",
   "metadata": {},
   "source": [
    "**2. What is an object in Python?**"
   ]
  },
  {
   "cell_type": "markdown",
   "id": "40548e4f",
   "metadata": {},
   "source": [
    "***Ans.***"
   ]
  },
  {
   "cell_type": "markdown",
   "id": "b3434c3f",
   "metadata": {},
   "source": [
    "<p>The object is an entity that has a state and a behavior associated with it. It may be\n",
    "any real-world object like the mouse, keyboard, chair, table, pen, etc.\n",
    "Integers, strings, floating-point numbers, even arrays and dictionaries, are all\n",
    "objects.</p>"
   ]
  },
  {
   "cell_type": "markdown",
   "id": "a5dc8354",
   "metadata": {},
   "source": [
    "**3. What is a class in Python?**"
   ]
  },
  {
   "cell_type": "markdown",
   "id": "fc35c0eb",
   "metadata": {},
   "source": [
    "***Ans.***"
   ]
  },
  {
   "cell_type": "markdown",
   "id": "6e21dca4",
   "metadata": {},
   "source": [
    "<p>A class is a ​blueprint​ that defines the variables and the methods (Characteristics)\n",
    "common to all objects of a certain kind</p>"
   ]
  },
  {
   "cell_type": "markdown",
   "id": "4dfd70d6",
   "metadata": {},
   "source": [
    "<p><b>Example:</b> If <b>Car</b> is a class, then <b>Maruti 800</b> is an object of the <b>Car</b> class. All cars share\n",
    "similar features like 4 wheels, 1 steering wheel, windows, breaks etc. Maruti 800 (The <b>Car</b>\n",
    "object) has all these features.</p>\n"
   ]
  },
  {
   "cell_type": "markdown",
   "id": "eca8e28d",
   "metadata": {},
   "source": [
    "**4. What are attributes and methods in a class?**"
   ]
  },
  {
   "cell_type": "markdown",
   "id": "ca34a075",
   "metadata": {},
   "source": [
    "***Ans.***"
   ]
  },
  {
   "cell_type": "markdown",
   "id": "8e1f5cd9",
   "metadata": {},
   "source": [
    "<p><b>Attributes</b>, also known as properties or fields, represent the data or state of an object. They are variables that store information about the object's characteristics or properties. Attributes define the object's characteristics and are usually accessed using dot notation (e.g., object.attribute).</p>\n",
    "<p>\n",
    "    <b>Methods</b> are functions defined within a class that specify the behavior or actions that objects of that class can perform. Methods are used to define the operations that can be applied to the object's attributes and to encapsulate functionality within the class.</p>"
   ]
  },
  {
   "cell_type": "markdown",
   "id": "1135954b",
   "metadata": {},
   "source": [
    "**5. What is the difference between class variables and instance variables in Python?**"
   ]
  },
  {
   "cell_type": "markdown",
   "id": "d4ed5d41",
   "metadata": {},
   "source": [
    "***Ans.***"
   ]
  },
  {
   "cell_type": "markdown",
   "id": "6b7abf12",
   "metadata": {},
   "source": [
    "<p><b>Instance Attributes</b>\n",
    "Attributes created in ​.__init__() are called ​instance​ attributes. An instance\n",
    "attribute’s value is specific to a particular instance of the class. </p>\n",
    "<p><b>Class Attributes</b>\n",
    "On the other hand, class attributes are attributes that have the same value for all\n",
    "class instances. You can define a class attribute by assigning a value to a variable\n",
    "name outside of <b>​.__init__()</b>.</p>"
   ]
  },
  {
   "cell_type": "code",
   "execution_count": 22,
   "id": "200538c4",
   "metadata": {},
   "outputs": [],
   "source": [
    "class Car:\n",
    " # Class attribute\n",
    " color = \"Black\"\n",
    "    \n",
    " def __init__(self, name, topSpeed):\n",
    "    self.name = name\n",
    "    self.topSpeed= topSpeed"
   ]
  },
  {
   "cell_type": "markdown",
   "id": "de99d911",
   "metadata": {},
   "source": [
    "**6. What is the purpose of the self parameter in Python class methods?**"
   ]
  },
  {
   "cell_type": "markdown",
   "id": "7c3fce2b",
   "metadata": {},
   "source": [
    "***Ans.***"
   ]
  },
  {
   "cell_type": "markdown",
   "id": "dc1bb645",
   "metadata": {},
   "source": [
    "<p><b>The self Parameter</b></p>\n",
    "<p>\n",
    "● The <b>​self</b> parameter is a reference to the current instance of the class and is\n",
    "used to access variables that belong to the class.\n",
    "</p>\n",
    "<p>\n",
    "● It does not have to be named <b>​self</b>, you can call it whatever you like, but it\n",
    "has to be the first parameter of any function in the class.</p>"
   ]
  },
  {
   "cell_type": "markdown",
   "id": "c0ff1a0d",
   "metadata": {},
   "source": [
    "**17. For a library management system, you have to design the \"Book\" class with OOP\n",
    "principles in mind. The “Book” class will have following attributes:\n",
    "a. title: Represents the title of the book.\n",
    "b. author: Represents the author(s) of the book.\n",
    "c. isbn: Represents the ISBN (International Standard Book Number) of the book.\n",
    "d. publication_year: Represents the year of publication of the book.\n",
    "e. available_copies: Represents the number of copies available for checkout.\n",
    "The class will also include the following methods:\n",
    "a. check_out(self): Decrements the available copies by one if there are copies\n",
    "available for checkout.\n",
    "b. return_book(self): Increments the available copies by one when a book is\n",
    "returned.\n",
    "c. display_book_info(self): Displays the information about the book, including its\n",
    "attributes and the number of available copies.**"
   ]
  },
  {
   "cell_type": "markdown",
   "id": "33d08319",
   "metadata": {},
   "source": [
    "***Ans.***"
   ]
  },
  {
   "cell_type": "code",
   "execution_count": 23,
   "id": "5ff07044",
   "metadata": {},
   "outputs": [],
   "source": [
    "class Book:\n",
    "    #constructor\n",
    "    def __init__(self, title, author, isbn, publication_year, available_copies):\n",
    "        self.title = title\n",
    "        self.author = author\n",
    "        self.isbn = isbn\n",
    "        self.publication_year = publication_year\n",
    "        self.available_copies = available_copies\n",
    "    def check_out(self):\n",
    "        if (self.available_copies > 0):\n",
    "            self.available_copies = self.available_copies - 1\n",
    "        else:\n",
    "            print(f\"The book {self.title} is not available.\")\n",
    "    def return_book(self):\n",
    "        self.available_copies = self.available_copies + 1\n",
    "        print(f\"The book {self.title} is returned, Thank You!.\")\n",
    "    def display_book_info(self):\n",
    "        print(f\"The book name is: {self.title}\")\n",
    "        print(f\"The author of the book is: {self.author}\")\n",
    "        print(f\"The ISBN is: {self.isbn}\")\n",
    "        print(f\"Publication year of the book is: {self.publication_year}\")\n",
    "        print(f\"Number of copies availabe are: {self.available_copies}\")\n",
    "        "
   ]
  },
  {
   "cell_type": "code",
   "execution_count": 24,
   "id": "269e57d4",
   "metadata": {},
   "outputs": [
    {
     "name": "stdout",
     "output_type": "stream",
     "text": [
      "The book name is: The Catcher in the Rye\n",
      "The author of the book is: J.D. Salinger\n",
      "The ISBN is: 978-0-316-76948-0\n",
      "Publication year of the book is: 1951\n",
      "Number of copies availabe are: 5\n",
      "The book The Catcher in the Rye is returned, Thank You!.\n"
     ]
    }
   ],
   "source": [
    "# Example usage:\n",
    "book1 = Book(\"The Catcher in the Rye\", \"J.D. Salinger\", \"978-0-316-76948-0\", 1951, 5)\n",
    "book1.display_book_info()\n",
    "book1.check_out()\n",
    "book1.return_book()\n"
   ]
  },
  {
   "cell_type": "markdown",
   "id": "7f4ae3ec",
   "metadata": {},
   "source": [
    "**8. For a ticket booking system, you have to design the \"Ticket\" class with OOP\n",
    "principles in mind. The “Ticket” class should have the following attributes:\n",
    "a. ticket_id: Represents the unique identifier for the ticket.\n",
    "b. event_name: Represents the name of the event.\n",
    "c. event_date: Represents the date of the event.\n",
    "d. venue: Represents the venue of the event.\n",
    "e. seat_number: Represents the seat number associated with the ticket.\n",
    "f. price: Represents the price of the ticket.\n",
    "g. is_reserved: Represents the reservation status of the ticket.\n",
    "The class also includes the following methods:\n",
    "a. reserve_ticket(self): Marks the ticket as reserved if it is not already reserved.\n",
    "b. cancel_reservation(self): Cancels the reservation of the ticket if it is already\n",
    "reserved.\n",
    "c. display_ticket_info(self): Displays the information about the ticket, including its\n",
    "attributes and reservation status.**"
   ]
  },
  {
   "cell_type": "markdown",
   "id": "555dd3e9",
   "metadata": {},
   "source": [
    "***Ans.***"
   ]
  },
  {
   "cell_type": "code",
   "execution_count": 25,
   "id": "61f7835c",
   "metadata": {},
   "outputs": [
    {
     "name": "stdout",
     "output_type": "stream",
     "text": [
      "Ticket ID: 1\n",
      "Event Name: Concert\n",
      "Event Date: 2023-09-15\n",
      "Venue: Arena\n",
      "Seat Number: A101\n",
      "Price: $50.0\n",
      "Reservation Status: Not Reserved\n",
      "Ticket 1 has been reserved.\n",
      "Reservation for Ticket 1 has been canceled.\n",
      "Ticket ID: 1\n",
      "Event Name: Concert\n",
      "Event Date: 2023-09-15\n",
      "Venue: Arena\n",
      "Seat Number: A101\n",
      "Price: $50.0\n",
      "Reservation Status: Not Reserved\n",
      "Ticket ID: 2\n",
      "Event Name: Theater Play\n",
      "Event Date: 2023-09-20\n",
      "Venue: Theater A\n",
      "Seat Number: B22\n",
      "Price: $30.0\n",
      "Reservation Status: Reserved\n",
      "Ticket 2 is already reserved.\n",
      "Reservation for Ticket 2 has been canceled.\n",
      "Ticket ID: 2\n",
      "Event Name: Theater Play\n",
      "Event Date: 2023-09-20\n",
      "Venue: Theater A\n",
      "Seat Number: B22\n",
      "Price: $30.0\n",
      "Reservation Status: Not Reserved\n"
     ]
    }
   ],
   "source": [
    "class Ticket:\n",
    "    def __init__(self, ticket_id, event_name, event_date, venue, seat_number, price, is_reserved=False):\n",
    "        self.ticket_id = ticket_id\n",
    "        self.event_name = event_name\n",
    "        self.event_date = event_date\n",
    "        self.venue = venue\n",
    "        self.seat_number = seat_number\n",
    "        self.price = price\n",
    "        self.is_reserved = is_reserved\n",
    "\n",
    "    def reserve_ticket(self):\n",
    "        if not self.is_reserved:\n",
    "            self.is_reserved = True\n",
    "            return f\"Ticket {self.ticket_id} has been reserved.\"\n",
    "        else:\n",
    "            return f\"Ticket {self.ticket_id} is already reserved.\"\n",
    "\n",
    "    def cancel_reservation(self):\n",
    "        if self.is_reserved:\n",
    "            self.is_reserved = False\n",
    "            return f\"Reservation for Ticket {self.ticket_id} has been canceled.\"\n",
    "        else:\n",
    "            return f\"Ticket {self.ticket_id} is not reserved, so it cannot be canceled.\"\n",
    "\n",
    "    def display_ticket_info(self):\n",
    "        info = f\"Ticket ID: {self.ticket_id}\\n\" \\\n",
    "               f\"Event Name: {self.event_name}\\n\" \\\n",
    "               f\"Event Date: {self.event_date}\\n\" \\\n",
    "               f\"Venue: {self.venue}\\n\" \\\n",
    "               f\"Seat Number: {self.seat_number}\\n\" \\\n",
    "               f\"Price: ${self.price}\\n\" \\\n",
    "               f\"Reservation Status: {'Reserved' if self.is_reserved else 'Not Reserved'}\"\n",
    "        return info\n",
    "\n",
    "# Example usage:\n",
    "ticket1 = Ticket(1, \"Concert\", \"2023-09-15\", \"Arena\", \"A101\", 50.00)\n",
    "ticket2 = Ticket(2, \"Theater Play\", \"2023-09-20\", \"Theater A\", \"B22\", 30.00, True)\n",
    "\n",
    "# Display ticket info\n",
    "print(ticket1.display_ticket_info())\n",
    "\n",
    "\n",
    "print(ticket1.reserve_ticket())\n",
    "print(ticket1.cancel_reservation())\n",
    "\n",
    "\n",
    "print(ticket1.display_ticket_info())\n",
    "\n",
    "\n",
    "print(ticket2.display_ticket_info())\n",
    "print(ticket2.reserve_ticket())\n",
    "\n",
    "\n",
    "print(ticket2.cancel_reservation())\n",
    "\n",
    "print(ticket2.display_ticket_info())\n"
   ]
  },
  {
   "cell_type": "markdown",
   "id": "455d391e",
   "metadata": {},
   "source": [
    "**9. You are creating a shopping cart for an e-commerce website. Using OOP to model\n",
    "the \"ShoppingCart\" functionality the class should contain following attributes and\n",
    "methods:\n",
    "a. items: Represents the list of items in the shopping cart.\n",
    "The class also includes the following methods:\n",
    "a. add_item(self, item): Adds an item to the shopping cart by appending it to the\n",
    "list of items.\n",
    "b. remove_item(self, item): Removes an item from the shopping cart if it exists in\n",
    "the list.\n",
    "c. view_cart(self): Displays the items currently present in the shopping cart.\n",
    "d. clear_cart(self): Clears all items from the shopping cart by reassigning an\n",
    "empty list to the items attribute.**"
   ]
  },
  {
   "cell_type": "markdown",
   "id": "f75f275f",
   "metadata": {},
   "source": [
    "**Ans.**"
   ]
  },
  {
   "cell_type": "code",
   "execution_count": 26,
   "id": "b2c4408d",
   "metadata": {},
   "outputs": [
    {
     "name": "stdout",
     "output_type": "stream",
     "text": [
      "Item 1 has been added to the shopping cart.\n",
      "Item 2 has been added to the shopping cart.\n",
      "Items in the shopping cart:\n",
      "- Item 1\n",
      "- Item 2\n",
      "Item 1 has been removed from the shopping cart.\n",
      "Items in the shopping cart:\n",
      "- Item 2\n",
      "The shopping cart has been cleared.\n",
      "The shopping cart is empty.\n"
     ]
    }
   ],
   "source": [
    "class ShoppingCart:\n",
    "    def __init__(self):\n",
    "        self.items = []\n",
    "\n",
    "    def add_item(self, item):\n",
    "        self.items.append(item)\n",
    "        print(f\"{item} has been added to the shopping cart.\")\n",
    "\n",
    "    def remove_item(self, item):\n",
    "        if item in self.items:\n",
    "            self.items.remove(item)\n",
    "            print(f\"{item} has been removed from the shopping cart.\")\n",
    "        else:\n",
    "            print(f\"{item} is not in the shopping cart.\")\n",
    "\n",
    "    def view_cart(self):\n",
    "        if not self.items:\n",
    "            print(\"The shopping cart is empty.\")\n",
    "        else:\n",
    "            print(\"Items in the shopping cart:\")\n",
    "            for item in self.items:\n",
    "                print(f\"- {item}\")\n",
    "\n",
    "    def clear_cart(self):\n",
    "        self.items = []\n",
    "        print(\"The shopping cart has been cleared.\")\n",
    "\n",
    "# Example usage:\n",
    "cart = ShoppingCart()\n",
    "\n",
    "cart.add_item(\"Item 1\")\n",
    "cart.add_item(\"Item 2\")\n",
    "cart.view_cart()\n",
    "\n",
    "cart.remove_item(\"Item 1\")\n",
    "cart.view_cart()\n",
    "\n",
    "cart.clear_cart()\n",
    "cart.view_cart()\n"
   ]
  },
  {
   "cell_type": "markdown",
   "id": "646db4e6",
   "metadata": {},
   "source": [
    "**10. Imagine a school management system. You have to design the \"Student\" class using\n",
    "OOP concepts.The “Student” class has the following attributes:\n",
    "a. name: Represents the name of the student.\n",
    "b. age: Represents the age of the student.\n",
    "c. grade: Represents the grade or class of the student.\n",
    "d. student_id: Represents the unique identifier for the student.\n",
    "e. attendance: Represents the attendance record of the student.\n",
    "The class should also include the following methods:\n",
    "a. update_attendance(self, date, status): Updates the attendance record of the\n",
    "student for a given date with the provided status (e.g., present or absent).\n",
    "b. get_attendance(self): Returns the attendance record of the student.\n",
    "c. get_average_attendance(self): Calculates and returns the average\n",
    "attendance percentage of the student based on their attendance record.**\n"
   ]
  },
  {
   "cell_type": "markdown",
   "id": "4ffb3c41",
   "metadata": {},
   "source": [
    "**Ans.**"
   ]
  },
  {
   "cell_type": "code",
   "execution_count": 27,
   "id": "68e47345",
   "metadata": {},
   "outputs": [
    {
     "name": "stdout",
     "output_type": "stream",
     "text": [
      "Alice marked as present on 2023-09-10.\n",
      "Alice marked as absent on 2023-09-11.\n",
      "Alice marked as present on 2023-09-12.\n",
      "Bob marked as absent on 2023-09-10.\n",
      "Bob marked as present on 2023-09-11.\n",
      "Bob marked as present on 2023-09-12.\n",
      "Alice's Attendance:\n",
      "{'2023-09-10': 'present', '2023-09-11': 'absent', '2023-09-12': 'present'}\n",
      "Bob's Attendance:\n",
      "{'2023-09-10': 'absent', '2023-09-11': 'present', '2023-09-12': 'present'}\n",
      "Alice's Average Attendance: 66.66666666666666%\n",
      "Bob's Average Attendance: 66.66666666666666%\n"
     ]
    }
   ],
   "source": [
    "class Student:\n",
    "    def __init__(self, name, age, grade, student_id):\n",
    "        self.name = name\n",
    "        self.age = age\n",
    "        self.grade = grade\n",
    "        self.student_id = student_id\n",
    "        self.attendance = {}  # Dictionary to store attendance records (date: status)\n",
    "\n",
    "    def update_attendance(self, date, status):\n",
    "        if status.lower() in ['present', 'absent']:\n",
    "            self.attendance[date] = status.lower()\n",
    "            print(f\"{self.name} marked as {status} on {date}.\")\n",
    "        else:\n",
    "            print(\"Invalid attendance status. Please use 'present' or 'absent'.\")\n",
    "\n",
    "    def get_attendance(self):\n",
    "        return self.attendance\n",
    "\n",
    "    def get_average_attendance(self):\n",
    "        total_days = len(self.attendance)\n",
    "        if total_days == 0:\n",
    "            return 0.0  # No attendance recorded\n",
    "        present_count = list(self.attendance.values()).count('present')\n",
    "        average_percentage = (present_count / total_days) * 100\n",
    "        return average_percentage\n",
    "\n",
    "# Example usage:\n",
    "student1 = Student(\"Alice\", 16, \"10th Grade\", \"12345\")\n",
    "student2 = Student(\"Bob\", 15, \"9th Grade\", \"67890\")\n",
    "\n",
    "# Update attendance\n",
    "student1.update_attendance(\"2023-09-10\", \"present\")\n",
    "student1.update_attendance(\"2023-09-11\", \"absent\")\n",
    "student1.update_attendance(\"2023-09-12\", \"present\")\n",
    "\n",
    "student2.update_attendance(\"2023-09-10\", \"absent\")\n",
    "student2.update_attendance(\"2023-09-11\", \"present\")\n",
    "student2.update_attendance(\"2023-09-12\", \"present\")\n",
    "\n",
    "# Get and display attendance\n",
    "print(student1.name + \"'s Attendance:\")\n",
    "print(student1.get_attendance())\n",
    "\n",
    "print(student2.name + \"'s Attendance:\")\n",
    "print(student2.get_attendance())\n",
    "\n",
    "# Calculate and display average attendance\n",
    "print(f\"{student1.name}'s Average Attendance: {student1.get_average_attendance()}%\")\n",
    "print(f\"{student2.name}'s Average Attendance: {student2.get_average_attendance()}%\")\n"
   ]
  }
 ],
 "metadata": {
  "kernelspec": {
   "display_name": "Python 3 (ipykernel)",
   "language": "python",
   "name": "python3"
  },
  "language_info": {
   "codemirror_mode": {
    "name": "ipython",
    "version": 3
   },
   "file_extension": ".py",
   "mimetype": "text/x-python",
   "name": "python",
   "nbconvert_exporter": "python",
   "pygments_lexer": "ipython3",
   "version": "3.9.12"
  }
 },
 "nbformat": 4,
 "nbformat_minor": 5
}
