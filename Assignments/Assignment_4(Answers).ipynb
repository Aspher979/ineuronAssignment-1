{
  "nbformat": 4,
  "nbformat_minor": 0,
  "metadata": {
    "colab": {
      "provenance": []
    },
    "kernelspec": {
      "name": "python3",
      "display_name": "Python 3"
    },
    "language_info": {
      "name": "python"
    }
  },
  "cells": [
    {
      "cell_type": "markdown",
      "source": [
        "**1. What exactly is []?**"
      ],
      "metadata": {
        "id": "lk0ONyEus9At"
      }
    },
    {
      "cell_type": "markdown",
      "source": [
        "***Ans.***"
      ],
      "metadata": {
        "id": "OupFx3ZTs8sk"
      }
    },
    {
      "cell_type": "code",
      "source": [
        "#[] represents an empty list.\n",
        "my_list = []\n",
        "print(my_list)\n",
        "print(len(my_list))"
      ],
      "metadata": {
        "colab": {
          "base_uri": "https://localhost:8080/"
        },
        "id": "5l98caQvr6i0",
        "outputId": "c0121d35-e781-41df-a3c8-b8558005077f"
      },
      "execution_count": 17,
      "outputs": [
        {
          "output_type": "stream",
          "name": "stdout",
          "text": [
            "[]\n",
            "0\n"
          ]
        }
      ]
    },
    {
      "cell_type": "markdown",
      "source": [
        "**2. In a list of values stored in a variable called spam, how would you assign the value 'hello' as the third value? (Assume [2, 4, 6, 8, 10] are in spam.)**"
      ],
      "metadata": {
        "id": "NtdNNnvttIiO"
      }
    },
    {
      "cell_type": "markdown",
      "source": [
        "***Ans.***"
      ],
      "metadata": {
        "id": "UPtuEoIGtKny"
      }
    },
    {
      "cell_type": "code",
      "source": [
        "spam = [2, 4, 6, 8, 10]\n",
        "#assign the value 'hello' as the third value\n",
        "spam[2] = \"hello\"\n",
        "print(spam)"
      ],
      "metadata": {
        "colab": {
          "base_uri": "https://localhost:8080/"
        },
        "id": "QOSgZ3X2r6lc",
        "outputId": "d5f7ba0f-2e26-4a55-d5aa-d6211eec8df6"
      },
      "execution_count": 20,
      "outputs": [
        {
          "output_type": "stream",
          "name": "stdout",
          "text": [
            "[2, 4, 'hello', 8, 10]\n"
          ]
        }
      ]
    },
    {
      "cell_type": "code",
      "source": [
        "spam = ['a', 'b', 'c', 'd']"
      ],
      "metadata": {
        "id": "tpeUC4YHr6n4"
      },
      "execution_count": 22,
      "outputs": []
    },
    {
      "cell_type": "markdown",
      "source": [
        "**3. What is the value of spam[int(int('3' * 2) / 11)]?**"
      ],
      "metadata": {
        "id": "4h16hrHMt6lM"
      }
    },
    {
      "cell_type": "markdown",
      "source": [
        "***Ans.***"
      ],
      "metadata": {
        "id": "o5i9upRwuA3F"
      }
    },
    {
      "cell_type": "code",
      "source": [
        "spam[int(int('3' * 2) / 11)]\n",
        "#spam[int(int('3' * 2) / 11)] = spam[int(int('33') / 11)] = spam[int(33/11)] = spam[3] >>> 'd'"
      ],
      "metadata": {
        "colab": {
          "base_uri": "https://localhost:8080/",
          "height": 35
        },
        "id": "ml9zqsIHr6rv",
        "outputId": "3b288bcf-c77b-4d71-967f-f3efae609ff0"
      },
      "execution_count": 25,
      "outputs": [
        {
          "output_type": "execute_result",
          "data": {
            "text/plain": [
              "'d'"
            ],
            "application/vnd.google.colaboratory.intrinsic+json": {
              "type": "string"
            }
          },
          "metadata": {},
          "execution_count": 25
        }
      ]
    },
    {
      "cell_type": "markdown",
      "source": [
        "**4. What is the value of spam[-1]?**"
      ],
      "metadata": {
        "id": "ARF6DG9KussJ"
      }
    },
    {
      "cell_type": "markdown",
      "source": [
        "***Ans.***"
      ],
      "metadata": {
        "id": "KKL1pQFfuxJL"
      }
    },
    {
      "cell_type": "code",
      "source": [
        "spam[-1]"
      ],
      "metadata": {
        "colab": {
          "base_uri": "https://localhost:8080/",
          "height": 35
        },
        "id": "tWM8fsRdr6v6",
        "outputId": "dfcf711c-c0a8-44c0-da7a-c4945020c373"
      },
      "execution_count": 26,
      "outputs": [
        {
          "output_type": "execute_result",
          "data": {
            "text/plain": [
              "'d'"
            ],
            "application/vnd.google.colaboratory.intrinsic+json": {
              "type": "string"
            }
          },
          "metadata": {},
          "execution_count": 26
        }
      ]
    },
    {
      "cell_type": "markdown",
      "source": [
        "**5. What is the value of spam[:2]?**"
      ],
      "metadata": {
        "id": "MtFPCbn5u3ON"
      }
    },
    {
      "cell_type": "markdown",
      "source": [
        "***Ans.***"
      ],
      "metadata": {
        "id": "CaVLfc4Wu3Ey"
      }
    },
    {
      "cell_type": "code",
      "source": [
        "spam[:2]"
      ],
      "metadata": {
        "colab": {
          "base_uri": "https://localhost:8080/"
        },
        "id": "dmNgtYdcr6y8",
        "outputId": "0b1fcee6-63cd-49ef-c570-14935c6be224"
      },
      "execution_count": 27,
      "outputs": [
        {
          "output_type": "execute_result",
          "data": {
            "text/plain": [
              "['a', 'b']"
            ]
          },
          "metadata": {},
          "execution_count": 27
        }
      ]
    },
    {
      "cell_type": "code",
      "source": [
        "#Let's pretend bacon has the list [3.14, 'cat,' 11, 'cat,' True] for the next three questions.\n",
        "bacon = [3.14, 'cat', 11, 'cat', True]"
      ],
      "metadata": {
        "id": "qpxOj0vrr61v"
      },
      "execution_count": 30,
      "outputs": []
    },
    {
      "cell_type": "markdown",
      "source": [
        "**6. What is the value of bacon.index('cat')?**\n"
      ],
      "metadata": {
        "id": "TzQvapLZvP8S"
      }
    },
    {
      "cell_type": "markdown",
      "source": [
        "***Ans.***"
      ],
      "metadata": {
        "id": "8jpoACD2vP0o"
      }
    },
    {
      "cell_type": "code",
      "source": [
        "bacon.index('cat')#output=1"
      ],
      "metadata": {
        "colab": {
          "base_uri": "https://localhost:8080/"
        },
        "id": "s_Ff0SrOr64i",
        "outputId": "e2b4eede-485d-4f1e-c548-e9220f6e43ae"
      },
      "execution_count": 31,
      "outputs": [
        {
          "output_type": "execute_result",
          "data": {
            "text/plain": [
              "1"
            ]
          },
          "metadata": {},
          "execution_count": 31
        }
      ]
    },
    {
      "cell_type": "markdown",
      "source": [
        "**7. How does bacon.append(99) change the look of the list value in bacon?**"
      ],
      "metadata": {
        "id": "m856b0pWvVk6"
      }
    },
    {
      "cell_type": "markdown",
      "source": [
        "***Ans.***"
      ],
      "metadata": {
        "id": "amq_6ZmNvVc4"
      }
    },
    {
      "cell_type": "code",
      "source": [
        "bacon.append(99)\n",
        "bacon"
      ],
      "metadata": {
        "colab": {
          "base_uri": "https://localhost:8080/"
        },
        "id": "XjABoXjtvU4R",
        "outputId": "3a256975-9da6-4618-d473-a74bd6da664c"
      },
      "execution_count": 32,
      "outputs": [
        {
          "output_type": "execute_result",
          "data": {
            "text/plain": [
              "[3.14, 'cat', 11, 'cat', True, 99]"
            ]
          },
          "metadata": {},
          "execution_count": 32
        }
      ]
    },
    {
      "cell_type": "markdown",
      "source": [
        "**8. How does bacon.remove('cat') change the look of the list in bacon?**"
      ],
      "metadata": {
        "id": "CPjotYyAvYmX"
      }
    },
    {
      "cell_type": "markdown",
      "source": [
        "***Ans.***"
      ],
      "metadata": {
        "id": "iLlB79qYvYjU"
      }
    },
    {
      "cell_type": "code",
      "source": [
        "bacon.remove('cat')\n",
        "bacon"
      ],
      "metadata": {
        "colab": {
          "base_uri": "https://localhost:8080/"
        },
        "id": "4wMEtHP3vYHk",
        "outputId": "dda25569-0193-49cb-ea4c-708ce93056d2"
      },
      "execution_count": 33,
      "outputs": [
        {
          "output_type": "execute_result",
          "data": {
            "text/plain": [
              "[3.14, 11, 'cat', True, 99]"
            ]
          },
          "metadata": {},
          "execution_count": 33
        }
      ]
    },
    {
      "cell_type": "markdown",
      "source": [
        "**9. What are the list concatenation and list replication operators?**"
      ],
      "metadata": {
        "id": "lmwjJLqfvaeD"
      }
    },
    {
      "cell_type": "markdown",
      "source": [
        "***Ans.***"
      ],
      "metadata": {
        "id": "hIuYkiFsvaZ8"
      }
    },
    {
      "cell_type": "code",
      "source": [
        "#The + operator is used to concatenate or combine two lists into a single list.\n",
        "list1 = [1, 2, 3]\n",
        "list2 = [4, 5, 6]\n",
        "result = list1 + list2 \n",
        "print(result)  # Output: [1, 2, 3, 4, 5, 6]"
      ],
      "metadata": {
        "colab": {
          "base_uri": "https://localhost:8080/"
        },
        "id": "NbwhM6ncvZ-m",
        "outputId": "425db5b4-fe5e-4a33-ec14-acd6b20a729e"
      },
      "execution_count": 35,
      "outputs": [
        {
          "output_type": "stream",
          "name": "stdout",
          "text": [
            "[1, 2, 3, 4, 5, 6, 1, 2]\n"
          ]
        }
      ]
    },
    {
      "cell_type": "code",
      "source": [
        "#The * operator is used to replicate or repeat a list a certain number of times.\n",
        "list1 = [1, 2, 3]\n",
        "result = list1 * 3\n",
        "print(result)  # Output: [1, 2, 3, 1, 2, 3, 1, 2, 3]"
      ],
      "metadata": {
        "colab": {
          "base_uri": "https://localhost:8080/"
        },
        "id": "zJRMnK-jy689",
        "outputId": "7f2d9ef3-45b8-4ad1-f355-7d723eafdf8c"
      },
      "execution_count": 36,
      "outputs": [
        {
          "output_type": "stream",
          "name": "stdout",
          "text": [
            "[1, 2, 3, 1, 2, 3, 1, 2, 3]\n"
          ]
        }
      ]
    },
    {
      "cell_type": "markdown",
      "source": [
        "**10. What is difference between the list methods append() and insert()?**"
      ],
      "metadata": {
        "id": "lZJy6l4tydIi"
      }
    },
    {
      "cell_type": "markdown",
      "source": [
        "***Ans.***"
      ],
      "metadata": {
        "id": "ieySfTcmydDS"
      }
    },
    {
      "cell_type": "markdown",
      "source": [
        "The append() method is used to add an element to the end of a list. It modifies the original list by adding the element as the last item."
      ],
      "metadata": {
        "id": "ISnLqj3hzP8Z"
      }
    },
    {
      "cell_type": "code",
      "source": [
        "list1 = [1, 2, 3]\n",
        "list1.append(4)\n",
        "list1"
      ],
      "metadata": {
        "colab": {
          "base_uri": "https://localhost:8080/"
        },
        "id": "06T2rp7NycsG",
        "outputId": "6154b24a-911d-4359-8131-f2a4e594ec00"
      },
      "execution_count": 48,
      "outputs": [
        {
          "output_type": "execute_result",
          "data": {
            "text/plain": [
              "[1, 2, 3, 4]"
            ]
          },
          "metadata": {},
          "execution_count": 48
        }
      ]
    },
    {
      "cell_type": "markdown",
      "source": [
        "The insert() method is used to add an element at a specific position in a list. It allows you to insert an element at any desired index. "
      ],
      "metadata": {
        "id": "PZYkMEiUzYG6"
      }
    },
    {
      "cell_type": "code",
      "source": [
        "list1.insert(3,5)\n",
        "list1"
      ],
      "metadata": {
        "colab": {
          "base_uri": "https://localhost:8080/"
        },
        "id": "Hoknm0XHycpH",
        "outputId": "d87b2d58-0be2-4947-ec8d-7a9db43d2959"
      },
      "execution_count": 49,
      "outputs": [
        {
          "output_type": "execute_result",
          "data": {
            "text/plain": [
              "[1, 2, 3, 5, 4]"
            ]
          },
          "metadata": {},
          "execution_count": 49
        }
      ]
    },
    {
      "cell_type": "markdown",
      "source": [
        "**11. What are the two methods for removing items from a list?**"
      ],
      "metadata": {
        "id": "4GaNZvvYyev7"
      }
    },
    {
      "cell_type": "markdown",
      "source": [
        "***Ans.***"
      ],
      "metadata": {
        "id": "RZUsCdbMyfVD"
      }
    },
    {
      "cell_type": "markdown",
      "source": [
        "1)The remove() method is used to remove the first occurrence of a specified element from a list."
      ],
      "metadata": {
        "id": "Us4nzX480mc6"
      }
    },
    {
      "cell_type": "code",
      "source": [
        "element = 5\n",
        "list1.remove(element)\n",
        "list1"
      ],
      "metadata": {
        "colab": {
          "base_uri": "https://localhost:8080/"
        },
        "id": "vRttC1DvycmX",
        "outputId": "2186faf7-78eb-4283-d2aa-8277fdc4c74f"
      },
      "execution_count": 50,
      "outputs": [
        {
          "output_type": "execute_result",
          "data": {
            "text/plain": [
              "[1, 2, 3, 4]"
            ]
          },
          "metadata": {},
          "execution_count": 50
        }
      ]
    },
    {
      "cell_type": "markdown",
      "source": [
        "2)The pop() method is used to remove and return an element at a specified index from a list. "
      ],
      "metadata": {
        "id": "hPYuQ1zi0zHf"
      }
    },
    {
      "cell_type": "code",
      "source": [
        "index = 2\n",
        "list1.pop(index)\n",
        "list1"
      ],
      "metadata": {
        "colab": {
          "base_uri": "https://localhost:8080/"
        },
        "id": "2EO_fz00ycjM",
        "outputId": "f0adcb49-40cd-40c3-a396-f60ddbd089b3"
      },
      "execution_count": 51,
      "outputs": [
        {
          "output_type": "execute_result",
          "data": {
            "text/plain": [
              "[1, 2, 4]"
            ]
          },
          "metadata": {},
          "execution_count": 51
        }
      ]
    },
    {
      "cell_type": "markdown",
      "source": [
        "**12. Describe how list values and string values are identical.**"
      ],
      "metadata": {
        "id": "JsJJyArOygVB"
      }
    },
    {
      "cell_type": "markdown",
      "source": [
        "***Ans.***"
      ],
      "metadata": {
        "id": "2OjKE43oygxy"
      }
    },
    {
      "cell_type": "markdown",
      "source": [
        "\n",
        "\n",
        "1.   Both lists and strings are ordered sequences of elements.\n",
        "2.   Both lists and strings support indexing, allowing you to    \n",
        "     access individual elements by their position.\n",
        "\n",
        "1.    Lists and strings can be sliced to extract sub-sequences.\n",
        "2.   Both lists and strings can be iterated over using loops or comprehensions\n",
        "\n",
        "\n"
      ],
      "metadata": {
        "id": "fbvzuuyX1UeS"
      }
    },
    {
      "cell_type": "markdown",
      "source": [
        "**13. What's the difference between tuples and lists?**"
      ],
      "metadata": {
        "id": "f1pxqPcVyhsW"
      }
    },
    {
      "cell_type": "markdown",
      "source": [
        "***Ans.***"
      ],
      "metadata": {
        "id": "zxmN0aTHyiFb"
      }
    },
    {
      "cell_type": "markdown",
      "source": [
        "\n",
        "\n",
        "1.   The main difference between tuples and lists is that tuples are immutable, while lists are mutable. Once a tuple is created, its elements cannot be modified, added, or removed. In contrast, lists can be modified by changing, adding, or removing elements.\n",
        "\n",
        "2.   Tuples are defined using parentheses () or without any delimiters if the context allows.For example, (1, 2, 3).Lists, on the other hand, are defined using square brackets []. For example, [1, 2, 3].\n",
        "\n",
        "1.   Tuples are generally more lightweight and have slightly better performance compared to lists. Since tuples are immutable, Python can optimize their memory usage and operations on tuples can be faster than on lists.\n",
        "\n",
        "\n",
        "\n",
        "\n"
      ],
      "metadata": {
        "id": "820iy8jT2AYQ"
      }
    },
    {
      "cell_type": "markdown",
      "source": [
        "**14. How do you type a tuple value that only contains the integer 42?**"
      ],
      "metadata": {
        "id": "2U3rbBkiyixx"
      }
    },
    {
      "cell_type": "markdown",
      "source": [
        "***Ans.***"
      ],
      "metadata": {
        "id": "xmPpqyuFyjVt"
      }
    },
    {
      "cell_type": "code",
      "source": [
        "my_tuple = (42,)"
      ],
      "metadata": {
        "id": "fkISCs90ybzW"
      },
      "execution_count": 52,
      "outputs": []
    },
    {
      "cell_type": "code",
      "source": [
        "my_tuple"
      ],
      "metadata": {
        "colab": {
          "base_uri": "https://localhost:8080/"
        },
        "id": "xP-TQn4Mybwb",
        "outputId": "96443c46-1a1d-4640-c1e5-88c10f144a39"
      },
      "execution_count": 53,
      "outputs": [
        {
          "output_type": "execute_result",
          "data": {
            "text/plain": [
              "(42,)"
            ]
          },
          "metadata": {},
          "execution_count": 53
        }
      ]
    },
    {
      "cell_type": "markdown",
      "source": [
        "**15. How do you get a list value's tuple form? How do you get a tuple value's list form?**"
      ],
      "metadata": {
        "id": "a9n-VCKv2rw4"
      }
    },
    {
      "cell_type": "markdown",
      "source": [
        "***Ans.***"
      ],
      "metadata": {
        "id": "Dtd_-xkb2roU"
      }
    },
    {
      "cell_type": "code",
      "source": [
        "my_list = [1, 2, 3, 4, 5]\n",
        "my_tuple = tuple(my_list)\n",
        "print(my_tuple)  # Output: (1, 2, 3, 4, 5)\n"
      ],
      "metadata": {
        "colab": {
          "base_uri": "https://localhost:8080/"
        },
        "id": "xvxRu_pl2p79",
        "outputId": "ac326364-c982-4463-bd56-22b2710dfecc"
      },
      "execution_count": 54,
      "outputs": [
        {
          "output_type": "stream",
          "name": "stdout",
          "text": [
            "(1, 2, 3, 4, 5)\n"
          ]
        }
      ]
    },
    {
      "cell_type": "code",
      "source": [
        "my_tuple = (1, 2, 3, 4, 5)\n",
        "my_list = list(my_tuple)\n",
        "print(my_list)  # Output: [1, 2, 3, 4, 5]\n"
      ],
      "metadata": {
        "colab": {
          "base_uri": "https://localhost:8080/"
        },
        "id": "ZPif5BBs3Mv6",
        "outputId": "eec88512-6ac8-4e49-a1e8-10bf731472ab"
      },
      "execution_count": 55,
      "outputs": [
        {
          "output_type": "stream",
          "name": "stdout",
          "text": [
            "[1, 2, 3, 4, 5]\n"
          ]
        }
      ]
    },
    {
      "cell_type": "markdown",
      "source": [
        "**16. Variables that \"contain\" list values are not necessarily lists themselves. Instead, what do they contain?**"
      ],
      "metadata": {
        "id": "NiUkgZHG2u-m"
      }
    },
    {
      "cell_type": "markdown",
      "source": [
        "***Ans.***"
      ],
      "metadata": {
        "id": "hO1F6U5b2uji"
      }
    },
    {
      "cell_type": "markdown",
      "source": [
        "Variables that \"contain\" list values in Python actually contain references to the list objects rather than the lists themselves. In other words, the variables store memory addresses that point to the location of the list objects in the computer's memory."
      ],
      "metadata": {
        "id": "Z3d9Sl8K3qYP"
      }
    },
    {
      "cell_type": "code",
      "source": [
        "list1 = [1, 2, 3]\n",
        "list2 = list1  # Both list1 and list2 now refer to the same list object\n",
        "\n",
        "list1.append(4)\n",
        "print(list2)  # Output: [1, 2, 3, 4]\n"
      ],
      "metadata": {
        "colab": {
          "base_uri": "https://localhost:8080/"
        },
        "id": "IzSlkcaT2wTx",
        "outputId": "fc832dd4-0833-41d9-d07b-3591782fbc06"
      },
      "execution_count": 56,
      "outputs": [
        {
          "output_type": "stream",
          "name": "stdout",
          "text": [
            "[1, 2, 3, 4]\n"
          ]
        }
      ]
    },
    {
      "cell_type": "markdown",
      "source": [
        "**17. How do you distinguish between copy.copy() and copy.deepcopy()?**"
      ],
      "metadata": {
        "id": "nB6EEjtf2xC7"
      }
    },
    {
      "cell_type": "markdown",
      "source": [
        "***Ans.***"
      ],
      "metadata": {
        "id": "D3NvHgVC2w0u"
      }
    },
    {
      "cell_type": "markdown",
      "source": [
        "copy.copy():\n",
        "\n",
        "The copy.copy() function creates a shallow copy of an object.\n",
        "A shallow copy creates a new object but references the same nested objects as the original.\n",
        "\n",
        "\n",
        "If the original object contains mutable nested objects (e.g., lists or dictionaries), changes to those objects will be reflected in both the original and the copied object."
      ],
      "metadata": {
        "id": "Ng8MmN2K4lNH"
      }
    },
    {
      "cell_type": "markdown",
      "source": [
        "copy.deepcopy():\n",
        "\n",
        "The copy.deepcopy() function creates a deep copy of an object.\n",
        "\n",
        "A deep copy creates a completely independent copy of an object and all its nested objects recursively.\n",
        "\n",
        "Regardless of whether the nested objects are mutable or immutable, changes to any nested objects in the copied object will not affect the original object."
      ],
      "metadata": {
        "id": "h71wLkOV4nwH"
      }
    },
    {
      "cell_type": "code",
      "source": [
        "import copy\n",
        "\n",
        "list1 = [1, [2, 3]]\n",
        "list2 = copy.copy(list1)\n",
        "list3 = copy.deepcopy(list1)\n",
        "\n",
        "list1[0] = 10\n",
        "list1[1].append(4)\n",
        "\n",
        "print(list1)  \n",
        "print(list2)  \n",
        "print(list3)  \n"
      ],
      "metadata": {
        "colab": {
          "base_uri": "https://localhost:8080/"
        },
        "id": "MJgZNCPf2yR8",
        "outputId": "f4fdac49-05c7-4c67-e7d7-7c076071c630"
      },
      "execution_count": 57,
      "outputs": [
        {
          "output_type": "stream",
          "name": "stdout",
          "text": [
            "[10, [2, 3, 4]]\n",
            "[1, [2, 3, 4]]\n",
            "[1, [2, 3]]\n"
          ]
        }
      ]
    },
    {
      "cell_type": "code",
      "source": [],
      "metadata": {
        "id": "mnUQMswy4wPb"
      },
      "execution_count": null,
      "outputs": []
    }
  ]
}